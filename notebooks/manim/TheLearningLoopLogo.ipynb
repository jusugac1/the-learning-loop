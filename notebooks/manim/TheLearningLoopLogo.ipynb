{
 "cells": [
  {
   "cell_type": "code",
   "execution_count": 1,
   "metadata": {},
   "outputs": [
    {
     "data": {
      "text/html": [
       "<pre style=\"white-space:pre;overflow-x:auto;line-height:normal;font-family:Menlo,'DejaVu Sans Mono',consolas,'Courier New',monospace\">Manim Community <span style=\"color: #008000; text-decoration-color: #008000\">v0.18.0</span>\n",
       "\n",
       "</pre>\n"
      ],
      "text/plain": [
       "Manim Community \u001b[32mv0.\u001b[0m\u001b[32m18.0\u001b[0m\n",
       "\n"
      ]
     },
     "metadata": {},
     "output_type": "display_data"
    },
    {
     "name": "stderr",
     "output_type": "stream",
     "text": [
      "                                                                                              \r"
     ]
    },
    {
     "data": {
      "text/html": [
       "<video src=\"media/jupyter/TheLearningLoopLogo@2024-05-23@18-05-31.mp4\" controls autoplay loop style=\"max-width: 60%;\"  >\n",
       "      Your browser does not support the <code>video</code> element.\n",
       "    </video>"
      ],
      "text/plain": [
       "<IPython.core.display.Video object>"
      ]
     },
     "metadata": {},
     "output_type": "display_data"
    }
   ],
   "source": [
    "from manim import *\n",
    "import numpy as np\n",
    "\n",
    "\n",
    "# Définition de la fonction représentant la descente du gradient\n",
    "def negative_sigmoid(x):\n",
    "    x1_coord = x\n",
    "    x2_coord = -2 / (1 + np.exp(-x - 1.901)) + 0.5 + np.random.normal(-0.1, 0.03)\n",
    "    x3_coord = 0\n",
    "    return np.array((x1_coord, x2_coord, x3_coord))\n",
    "\n",
    "\n",
    "class TheLearningLoopLogo(Scene):\n",
    "    def construct(self):\n",
    "        # Code du texte à afficher\n",
    "        ## Création du texte\n",
    "        text = Text(\"The Learning Loop\")\n",
    "        ## Affichage et temps d'éxecution\n",
    "        self.play(Write(text), run_time=1)\n",
    "\n",
    "        # Code du point qui suit le cercle\n",
    "        ## Création du chemin et du point\n",
    "        path = VMobject()\n",
    "        dot = Dot(point=np.array((-3, 0.0, 0.0)))\n",
    "        path.set_points_as_corners([dot.get_center(), dot.get_center()])\n",
    "\n",
    "        ## Fonction qui permet de générer un chemin qui suit le\n",
    "        ## centre du point\n",
    "        def update_path(path):\n",
    "            previous_path = path.copy()\n",
    "            previous_path.add_points_as_corners([dot.get_center()])\n",
    "            path.become(previous_path)\n",
    "\n",
    "        path.add_updater(update_path)\n",
    "        self.add(path, dot)\n",
    "        ## Rotation du point autour d'un centre à l'origine\n",
    "        self.play(\n",
    "            Rotating(\n",
    "                dot, radians=2 * PI, about_point=np.array((0.0, 0.0, 0.0)), run_time=1.5\n",
    "            )\n",
    "        )\n",
    "        ## Fixer le cerclé dessiné par un cercle fixe\n",
    "        fixed_circle = Circle(color=WHITE, radius=3)\n",
    "        self.add(fixed_circle)\n",
    "\n",
    "        # Code de la courbe de la descente du gradient\n",
    "        ## On crée le chemin à partir de notre fonction\n",
    "        ## negative_sigmoid définie plus haut\n",
    "        grad_descent_path = ParametricFunction(\n",
    "            negative_sigmoid, t_range=np.array([-3, 2.5]), fill_opacity=0\n",
    "        ).set_color(WHITE)\n",
    "        ## Affichage et temps d'exécution de la courbe\n",
    "        self.play(Write(grad_descent_path, run_time=2))\n",
    "        ## Faire bouger le point sur le chemin dessiné par la courbe\n",
    "        self.play(MoveAlongPath(mobject=dot, path=grad_descent_path), run_time=0.5)\n",
    "        self.wait()\n",
    "\n",
    "\n",
    "# Commande qui permet de lancer la\n",
    "# classe TheLearningLoopLogo dans un notebook\n",
    "%manim -qm -v WARNING TheLearningLoopLogo\n"
   ]
  }
 ],
 "metadata": {
  "kernelspec": {
   "display_name": "my-manim-environment",
   "language": "python",
   "name": "python3"
  },
  "language_info": {
   "codemirror_mode": {
    "name": "ipython",
    "version": 3
   },
   "file_extension": ".py",
   "mimetype": "text/x-python",
   "name": "python",
   "nbconvert_exporter": "python",
   "pygments_lexer": "ipython3",
   "version": "3.11.8"
  }
 },
 "nbformat": 4,
 "nbformat_minor": 2
}
